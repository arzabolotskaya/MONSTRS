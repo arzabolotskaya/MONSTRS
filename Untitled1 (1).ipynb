{
 "cells": [
  {
   "cell_type": "code",
   "execution_count": 38,
   "metadata": {},
   "outputs": [],
   "source": [
    "import matplotlib.pyplot as plt\n",
    "import networkx as nx\n",
    "import random"
   ]
  },
  {
   "cell_type": "code",
   "execution_count": 122,
   "metadata": {},
   "outputs": [
    {
     "name": "stdout",
     "output_type": "stream",
     "text": [
      "[['b', 'f'], ['c', 'e'], ['d'], ['e'], ['f'], ['c', 'h'], ['f', 'h'], ['f', 'g']]\n"
     ]
    }
   ],
   "source": [
    "LOCS = {\n",
    "    \"a\" : {\"b\":1, \"f\":2}, # a\n",
    "    \"b\" : {\"c\":3, \"e\":4}, # b\n",
    "    \"c\" : {\"d\":5}, # c\n",
    "    \"d\" : {\"e\":6}, # d\n",
    "    \"e\" : {\"f\":7}, # e\n",
    "    \"f\" : {\"c\":8, \"h\":9}, # f\n",
    "    \"g\" : {\"f\":10, \"h\":11}, # g\n",
    "    \"h\" : {\"f\":9, \"g\":11} # h\n",
    "        }\n",
    "V = []\n",
    "Ev = []\n",
    "E = []\n",
    "for v in LOCS:\n",
    "    V.extend(v)\n",
    "for v in V:\n",
    "    l = []\n",
    "    for key in LOCS[v]:\n",
    "        l.extend([key])\n",
    "    Ev.append(l)\n",
    "rebra = list(range(1, 12))\n",
    "\n",
    "print(Ev)"
   ]
  },
  {
   "cell_type": "code",
   "execution_count": 123,
   "metadata": {},
   "outputs": [
    {
     "name": "stdout",
     "output_type": "stream",
     "text": [
      "\n",
      "\n",
      "\n",
      "\n",
      "\n",
      "\n",
      "\n",
      "\n",
      "\n",
      "\n",
      "\n",
      "\n",
      "\n",
      "[['a', 'b', 1], ['a', 'f', 2], ['b', 'c', 3], ['b', 'e', 4], ['c', 'd', 5], ['d', 'e', 6], ['e', 'f', 7], ['f', 'c', 8], ['f', 'h', 9], ['g', 'f', 10], ['g', 'h', 11], ['h', 'f', 9], ['h', 'g', 11]]\n"
     ]
    }
   ],
   "source": [
    "raw_data = []\n",
    "for i in LOCS:\n",
    "    for j in LOCS[i]:\n",
    "        print()\n",
    "        raw_data.append([i, j, LOCS[i][j]])\n",
    "print(raw_data)"
   ]
  },
  {
   "cell_type": "code",
   "execution_count": 124,
   "metadata": {},
   "outputs": [
    {
     "data": {
      "text/plain": [
       "<networkx.classes.graph.Graph at 0x621ab08>"
      ]
     },
     "execution_count": 124,
     "metadata": {},
     "output_type": "execute_result"
    },
    {
     "data": {
      "image/png": "[encoded data removed]",
      "text/plain": [
       "<Figure size 432x288 with 1 Axes>"
      ]
     },
     "metadata": {},
     "output_type": "display_data"
    }
   ],
   "source": [
    "def buildGraph(data, thr = 0.):\n",
    "    G1=nx.Graph()\n",
    "    # Перебираем все найденные персоны.\n",
    "    for p1, p2, w in data:\n",
    "        # Собственно, добавляем дугу к графу. Вершины добавятся сами.\n",
    "        if float(w) >= thr:\n",
    "            G1.add_edge(p1, p2)\n",
    "    return G1\n",
    "    \n",
    "def drawGraph(G):\n",
    "    # Строим расположение вершин графа на плоскости.\n",
    "    pstn=nx.spring_layout(G)\n",
    "    #pstn=nx.kamada_kawai_layout(G)\n",
    "    # Рисуем граф.\n",
    "    _=nx.draw(G, pos=pstn, with_labels=True, node_color='r', edge_color='g')\n",
    "\n",
    "def buildAndDrawGraph(data, thr = 0.):\n",
    "    G1 = buildGraph(raw_data, thr)\n",
    "    drawGraph(G1)\n",
    "    return G1\n",
    "\n",
    "buildAndDrawGraph(raw_data)"
   ]
  },
  {
   "cell_type": "code",
   "execution_count": 129,
   "metadata": {},
   "outputs": [
    {
     "name": "stdout",
     "output_type": "stream",
     "text": [
      "lizard\n",
      "hydra\n",
      "snake\n"
     ]
    }
   ],
   "source": [
    "monsters = [\"lizard\", \"hydra\", \"snake\"]\n",
    "heroes = [\"catwoman\", \"slash\"]\n",
    "dict_monstrs = {\n",
    "    'lizard' : \"a\",\n",
    "    'hydra' : \"c\",\n",
    "    'snake' : \"e\"\n",
    "}\n",
    "dict_heroes = {\n",
    "    'catwoman' : \"b\",\n",
    "    'slash' : \"g\"\n",
    "}\n",
    "for mon in dict_monstrs:\n",
    "    print(mon)"
   ]
  },
  {
   "cell_type": "code",
   "execution_count": 127,
   "metadata": {},
   "outputs": [
    {
     "name": "stdout",
     "output_type": "stream",
     "text": [
      "Сейчас монстр тут: a\n",
      "Куда он может пойти и какова его любовь/склонность к данным ребрам {'b': 4, 'f': 38}\n",
      "{'lizard': 'a'}\n",
      "Сейчас монстр тут: a\n",
      "Куда он может пойти и какова его любовь/склонность к данным ребрам {'b': 27, 'f': 20}\n",
      "{'lizard': 'b'}\n",
      "Сейчас монстр тут: a\n",
      "Куда он может пойти и какова его любовь/склонность к данным ребрам {'b': 66, 'f': 49}\n",
      "{'lizard': 'a'}\n",
      "Сейчас монстр тут: a\n",
      "Куда он может пойти и какова его любовь/склонность к данным ребрам {'b': 98, 'f': 49}\n",
      "{'lizard': 'b'}\n"
     ]
    }
   ],
   "source": [
    "def hod_monstra(m, d, LOCS):\n",
    "    pos = d[m]\n",
    "    options = list(LOCS[pos].keys())\n",
    "    opt_ver = {}\n",
    "    print(\"Сейчас монстр тут:\", pos)\n",
    "    for i in options:\n",
    "        ver = random.randint(1, 100) #это не процент вероятности не относительно остальных ребер, а относительно вообще склонности выбирать этот путь\n",
    "        opt_ver.update({i : ver})\n",
    "    print(\"Куда он может пойти и какова его любовь/склонность к данным ребрам\", opt_ver)\n",
    "    is_going = random.randint(0, 1) #сюда надо добавить механизм вероятности\n",
    "    decision = d[m]\n",
    "    if is_going == 1:\n",
    "        c = 0\n",
    "        decision = random.choice(options) #сюда тоже добавить механизм вероятности\n",
    "        \n",
    "    hod = {m : decision}    \n",
    "    return hod\n",
    "    \n",
    "print(hod_monstra('lizard', dict_monstrs, LOCS))\n",
    "print(hod_monstra('lizard', dict_monstrs, LOCS))\n",
    "print(hod_monstra('lizard', dict_monstrs, LOCS))\n",
    "print(hod_monstra('lizard', dict_monstrs, LOCS))"
   ]
  },
  {
   "cell_type": "code",
   "execution_count": null,
   "metadata": {},
   "outputs": [],
   "source": [
    "def check_monsters(fp, monsters): #функция проверяет есть ли монстр на пути\n",
    "    for mon in monsters:\n",
    "        if monsters[mon] in fp:\n",
    "            return True\n",
    "        else:\n",
    "            return False        "
   ]
  },
  {
   "cell_type": "code",
   "execution_count": null,
   "metadata": {},
   "outputs": [],
   "source": [
    "def find_path(V, E, visited, hero, bro): #НЕ УСПЕЛААААА адаптировать функцию по поиску кратчайшего пути из лекции\n",
    "    pass\n",
    "    "
   ]
  },
  {
   "cell_type": "code",
   "execution_count": 116,
   "metadata": {},
   "outputs": [
    {
     "ename": "NameError",
     "evalue": "name 'find_path' is not defined",
     "output_type": "error",
     "traceback": [
      "\u001b[1;31m---------------------------------------------------------------------------\u001b[0m",
      "\u001b[1;31mNameError\u001b[0m                                 Traceback (most recent call last)",
      "\u001b[1;32m<ipython-input-116-d93f24df0807>\u001b[0m in \u001b[0;36m<module>\u001b[1;34m\u001b[0m\n\u001b[0;32m      8\u001b[0m                 \u001b[0mclose_way\u001b[0m \u001b[1;33m=\u001b[0m \u001b[0mlen\u001b[0m\u001b[1;33m(\u001b[0m\u001b[0mfp\u001b[0m\u001b[1;33m)\u001b[0m\u001b[1;33m\u001b[0m\u001b[1;33m\u001b[0m\u001b[0m\n\u001b[0;32m      9\u001b[0m \u001b[1;33m\u001b[0m\u001b[0m\n\u001b[1;32m---> 10\u001b[1;33m \u001b[0mprint\u001b[0m\u001b[1;33m(\u001b[0m\u001b[0mhod_hero\u001b[0m\u001b[1;33m(\u001b[0m\u001b[1;34m'catwoman'\u001b[0m\u001b[1;33m,\u001b[0m \u001b[0mdict_heroes\u001b[0m\u001b[1;33m,\u001b[0m \u001b[0mLOCS\u001b[0m\u001b[1;33m)\u001b[0m\u001b[1;33m)\u001b[0m\u001b[1;33m\u001b[0m\u001b[1;33m\u001b[0m\u001b[0m\n\u001b[0m",
      "\u001b[1;32m<ipython-input-116-d93f24df0807>\u001b[0m in \u001b[0;36mhod_hero\u001b[1;34m(h, d, LOCS)\u001b[0m\n\u001b[0;32m      4\u001b[0m     \u001b[1;32mfor\u001b[0m \u001b[0mbro\u001b[0m \u001b[1;32min\u001b[0m \u001b[0md\u001b[0m\u001b[1;33m:\u001b[0m\u001b[1;33m\u001b[0m\u001b[1;33m\u001b[0m\u001b[0m\n\u001b[0;32m      5\u001b[0m         \u001b[1;32mif\u001b[0m \u001b[0mh\u001b[0m \u001b[1;33m!=\u001b[0m \u001b[0mbro\u001b[0m\u001b[1;33m:\u001b[0m \u001b[1;31m#к самому себе нам идти не надо\u001b[0m\u001b[1;33m\u001b[0m\u001b[1;33m\u001b[0m\u001b[0m\n\u001b[1;32m----> 6\u001b[1;33m             \u001b[0mfp\u001b[0m \u001b[1;33m=\u001b[0m \u001b[0mfind_path\u001b[0m\u001b[1;33m(\u001b[0m\u001b[0mV\u001b[0m\u001b[1;33m,\u001b[0m \u001b[0mE\u001b[0m\u001b[1;33m,\u001b[0m \u001b[0mvisited\u001b[0m\u001b[1;33m,\u001b[0m \u001b[0md\u001b[0m\u001b[1;33m[\u001b[0m\u001b[0mh\u001b[0m\u001b[1;33m]\u001b[0m\u001b[1;33m,\u001b[0m \u001b[0md\u001b[0m\u001b[1;33m[\u001b[0m\u001b[0mbro\u001b[0m\u001b[1;33m]\u001b[0m\u001b[1;33m)\u001b[0m\u001b[1;33m\u001b[0m\u001b[1;33m\u001b[0m\u001b[0m\n\u001b[0m\u001b[0;32m      7\u001b[0m             \u001b[1;32mif\u001b[0m \u001b[0mlen\u001b[0m\u001b[1;33m(\u001b[0m\u001b[0mfp\u001b[0m\u001b[1;33m)\u001b[0m \u001b[1;33m<\u001b[0m \u001b[0mclose_way\u001b[0m\u001b[1;33m:\u001b[0m\u001b[1;33m\u001b[0m\u001b[1;33m\u001b[0m\u001b[0m\n\u001b[0;32m      8\u001b[0m                 \u001b[0mclose_way\u001b[0m \u001b[1;33m=\u001b[0m \u001b[0mlen\u001b[0m\u001b[1;33m(\u001b[0m\u001b[0mfp\u001b[0m\u001b[1;33m)\u001b[0m\u001b[1;33m\u001b[0m\u001b[1;33m\u001b[0m\u001b[0m\n",
      "\u001b[1;31mNameError\u001b[0m: name 'find_path' is not defined"
     ]
    }
   ],
   "source": [
    "def hod_hero (h, d, LOCS, monsters): \n",
    "    close_way == len(LOCS)\n",
    "    for bro in d:\n",
    "        if h != bro: #к самому себе нам идти не надо\n",
    "            fp = find_path(V, E, visited, d[h], d[bro])\n",
    "            if check_monsters(fp, monsters) == False and len(fp) < close_way:\n",
    "                close_way = fp\n",
    "                closest_bro = bro\n",
    "    hod = {h : close_way[0]}\n",
    "    return hod\n",
    "                \n",
    "\n",
    "            \n",
    "print(hod_hero('catwoman', dict_heroes, LOCS))"
   ]
  },
  {
   "cell_type": "code",
   "execution_count": 22,
   "metadata": {},
   "outputs": [],
   "source": [
    "def odin_hod(dict_mon, dict_her):\n",
    "    is_over = True\n",
    "    new_mon = {}\n",
    "    new_her = {}\n",
    "    for mon in dict_mon:\n",
    "        new_mon.update(hod_monstra(mon, dict_mon, LOCS))#после каждого хода монстра его положение запиывается в новый словарь\n",
    "    for her in dict_her:\n",
    "        new_her.update(hod_hero(her, dict_her, LOCS, new_mon)) #то же с героями, только передаем положение монстров, чтобы герои могли оглядываться\n",
    "    new_her = dict_her\n",
    "    for her in new_her: #для каждого героя\n",
    "        for mon in new_mon: #проверяем каждого монстра\n",
    "            if new_her[her] == new_mon[mon]:\n",
    "                is_over = False #герой пойман! позиции монстра и героя совпали\n",
    "                #здесь надо проверить вместе ли герои\n",
    "    return dict_mon, dict_her, is_over"
   ]
  },
  {
   "cell_type": "code",
   "execution_count": null,
   "metadata": {},
   "outputs": [],
   "source": [
    "def main(mon, her):\n",
    "    control = True\n",
    "    while control == True:\n",
    "        mon, her, control = odin_hod(mon, her)\n",
    "    print(control)"
   ]
  },
  {
   "cell_type": "code",
   "execution_count": 18,
   "metadata": {},
   "outputs": [
    {
     "ename": "NameError",
     "evalue": "name 'main' is not defined",
     "output_type": "error",
     "traceback": [
      "\u001b[1;31m---------------------------------------------------------------------------\u001b[0m",
      "\u001b[1;31mNameError\u001b[0m                                 Traceback (most recent call last)",
      "\u001b[1;32m<ipython-input-18-b343a890ad5e>\u001b[0m in \u001b[0;36m<module>\u001b[1;34m\u001b[0m\n\u001b[1;32m----> 1\u001b[1;33m \u001b[0mmain\u001b[0m\u001b[1;33m(\u001b[0m\u001b[0mdict_monstrs\u001b[0m\u001b[1;33m,\u001b[0m \u001b[0mdict_heroes\u001b[0m\u001b[1;33m)\u001b[0m\u001b[1;33m\u001b[0m\u001b[1;33m\u001b[0m\u001b[0m\n\u001b[0m",
      "\u001b[1;31mNameError\u001b[0m: name 'main' is not defined"
     ]
    }
   ],
   "source": [
    "main(dict_monstrs, dict_heroes)"
   ]
  },
  {
   "cell_type": "markdown",
   "metadata": {},
   "source": []
  }
 ],
 "metadata": {
  "kernelspec": {
   "display_name": "Python 3",
   "language": "python",
   "name": "python3"
  },
  "language_info": {
   "codemirror_mode": {
    "name": "ipython",
    "version": 3
   },
   "file_extension": ".py",
   "mimetype": "text/x-python",
   "name": "python",
   "nbconvert_exporter": "python",
   "pygments_lexer": "ipython3",
   "version": "3.8.1"
  }
 },
 "nbformat": 4,
 "nbformat_minor": 4
}
